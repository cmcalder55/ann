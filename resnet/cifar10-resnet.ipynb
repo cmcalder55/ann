{
 "cells": [
  {
   "cell_type": "code",
   "execution_count": 1,
   "metadata": {
    "colab": {
     "base_uri": "https://localhost:8080/"
    },
    "id": "1e08yIX0yNUG",
    "outputId": "653d8a98-dd03-4f46-c80e-9b737c2be4d8"
   },
   "outputs": [
    {
     "ename": "ModuleNotFoundError",
     "evalue": "No module named 'keras'",
     "output_type": "error",
     "traceback": [
      "\u001b[1;31m---------------------------------------------------------------------------\u001b[0m",
      "\u001b[1;31mModuleNotFoundError\u001b[0m                       Traceback (most recent call last)",
      "Cell \u001b[1;32mIn[1], line 1\u001b[0m\n\u001b[1;32m----> 1\u001b[0m \u001b[38;5;28;01mfrom\u001b[39;00m \u001b[38;5;21;01mkeras\u001b[39;00m\u001b[38;5;21;01m.\u001b[39;00m\u001b[38;5;21;01mdatasets\u001b[39;00m \u001b[38;5;28;01mimport\u001b[39;00m cifar10\n\u001b[0;32m      2\u001b[0m (x_train, y_train), (x_test, y_test) \u001b[38;5;241m=\u001b[39m cifar10\u001b[38;5;241m.\u001b[39mload_data()\n\u001b[0;32m      4\u001b[0m \u001b[38;5;28mprint\u001b[39m(\u001b[38;5;124m\"\u001b[39m\u001b[38;5;124mTrain samples:\u001b[39m\u001b[38;5;124m\"\u001b[39m, x_train\u001b[38;5;241m.\u001b[39mshape, y_train\u001b[38;5;241m.\u001b[39mshape)\n",
      "\u001b[1;31mModuleNotFoundError\u001b[0m: No module named 'keras'"
     ]
    }
   ],
   "source": [
    "from keras.datasets import cifar10\n",
    "(x_train, y_train), (x_test, y_test) = cifar10.load_data()\n",
    "\n",
    "print(\"Train samples:\", x_train.shape, y_train.shape)\n",
    "print(\"Test samples:\", x_test.shape, y_test.shape)"
   ]
  },
  {
   "cell_type": "code",
   "execution_count": null,
   "metadata": {
    "colab": {
     "base_uri": "https://localhost:8080/",
     "height": 136
    },
    "id": "OuwnO3oDyNUI",
    "outputId": "840cb4cb-506b-415f-f6b9-0b4d82e5acaa"
   },
   "outputs": [],
   "source": [
    "import numpy as np\n",
    "import pandas as pd\n",
    "import matplotlib.pyplot as plt\n",
    "\n",
    "# import necessary building blocks\n",
    "from keras.models import Sequential, Model\n",
    "from keras.layers import BatchNormalization\n",
    "from keras.utils import np_utils\n",
    "from keras.layers import Conv2D, MaxPooling2D, Flatten, Dense, Activation, Dropout, ZeroPadding2D, Add\n",
    "from keras.layers import LeakyReLU\n",
    "from keras.optimizers import Adam\n",
    "from keras.preprocessing.image import ImageDataGenerator\n",
    "from keras.engine.input_layer import Input\n",
    "from keras.initializers import glorot_uniform\n",
    "\n",
    "NUM_CLASSES = 10\n",
    "cifar10_classes = [\"airplane\", \"automobile\", \"bird\", \"cat\", \"deer\",  \"dog\", \"frog\", \"horse\", \"ship\", \"truck\"]\n",
    "\n",
    "# show random images from training data\n",
    "cols = 8\n",
    "rows = 2\n",
    "fig = plt.figure(figsize=(2 * cols - 1, 2.5 * rows - 1))\n",
    "for i in range(cols):\n",
    "    for j in range(rows):\n",
    "        random_index = np.random.randint(0, len(y_train))\n",
    "        ax = fig.add_subplot(rows, cols, i * rows + j + 1)\n",
    "        ax.grid('off')\n",
    "        ax.axis('off')\n",
    "        ax.imshow(x_train[random_index, :])\n",
    "        ax.set_title(cifar10_classes[y_train[random_index, 0]])\n",
    "        plt.show()"
   ]
  },
  {
   "cell_type": "code",
   "execution_count": null,
   "metadata": {
    "id": "aNNTFPjzyhqv"
   },
   "outputs": [],
   "source": [
    "X_train = x_train.astype('float32')\n",
    "X_test = x_test.astype('float32')\n",
    "\n",
    "X_train/=255\n",
    "X_test/=255\n",
    "\n",
    "Y_train = np_utils.to_categorical(y_train, len(cifar10_classes))\n",
    "Y_test = np_utils.to_categorical(y_test, len(cifar10_classes))\n",
    "\n",
    "x_val = X_train[:10000]\n",
    "partial_x_train = X_train[10000:]\n",
    "y_val = Y_train[:10000]\n",
    "partial_y_train = Y_train[10000:]\n",
    "\n",
    "\n",
    "gen = ImageDataGenerator(rotation_range=8, width_shift_range=0.08, shear_range=0.3,\n",
    " height_shift_range=0.08, zoom_range=0.08)\n",
    "val_gen = ImageDataGenerator()\n",
    "train_generator = gen.flow(partial_x_train, partial_y_train, batch_size=64)\n",
    "val_generator = val_gen.flow(x_val, y_val, batch_size=64)"
   ]
  },
  {
   "cell_type": "code",
   "execution_count": null,
   "metadata": {
    "id": "owHXIt8XyhHD"
   },
   "outputs": [],
   "source": [
    "# Define the input as a tensor with shape input_shape\n",
    "X_input = Input((32,32,3))\n",
    "\n",
    "# Zero-Padding\n",
    "X = ZeroPadding2D((3, 3))(X_input)\n",
    "\n",
    "# ---------------Stage 1------------------------\n",
    "X = Conv2D(64, (7, 7), strides = (2, 2), name = 'conv1', kernel_initializer = glorot_uniform(seed=0))(X)\n",
    "X = BatchNormalization(axis = 3, name = 'bn_conv1')(X)\n",
    "X = Activation('relu')(X)\n",
    "X = MaxPooling2D((3, 3), strides=(2, 2))(X)\n",
    "\n",
    "# ----------Stage 2 for ResNet-------------------\n",
    "\n",
    "# Save the input value. You'll need this later to add back to the main path.\n",
    "X_shortcut = X\n",
    "\n",
    "# Below is the script for your own ResNet:\n",
    "# conv2d layer --> batch norm layer --> relu activation layer\n",
    "X = Conv2D(64, (3, 3), strides = (1, 1), name = 'conv2', kernel_initializer = glorot_uniform(seed=0))(X)\n",
    "X = BatchNormalization(axis = 3, name = 'bn_conv2')(X)\n",
    "X = Activation('relu')(X)\n",
    "# add extra conv2d layer chain to get equal size when combining Stage 1 and Stage 2\n",
    "X = Conv2D(64, (3, 3), strides = (1, 1), name = 'conv3', kernel_initializer = glorot_uniform(seed=0))(X)\n",
    "X = BatchNormalization(axis = 3, name = 'bn_conv3')(X)\n",
    "X = Activation('relu')(X)\n",
    "# final conv2d layer and normalization\n",
    "X = Conv2D(64, (3, 3), strides = (1, 1), name = 'conv4', kernel_initializer = glorot_uniform(seed=0))(X)\n",
    "X = BatchNormalization(axis = 3, name = 'bn_conv4')(X)\n",
    "#Add X_shortcut before doing final activation\n",
    "X = Add()([X, X_shortcut])\n",
    "X = Activation('relu')(X)\n",
    "# output layer\n",
    "X = Flatten()(X)\n",
    "X = Dense(NUM_CLASSES, activation='softmax', name='fc' + str(NUM_CLASSES), kernel_initializer = glorot_uniform(seed=0))(X)"
   ]
  },
  {
   "cell_type": "code",
   "execution_count": null,
   "metadata": {
    "colab": {
     "base_uri": "https://localhost:8080/"
    },
    "id": "fJgRVZalyl7h",
    "outputId": "8d099778-3bef-46a3-8923-514754a00024",
    "scrolled": true
   },
   "outputs": [],
   "source": [
    "# Create model\n",
    "model = Model(inputs = X_input, outputs = X, name='ResNet50')\n",
    "model.summary()"
   ]
  },
  {
   "cell_type": "code",
   "execution_count": null,
   "metadata": {
    "colab": {
     "base_uri": "https://localhost:8080/",
     "height": 425
    },
    "id": "HFOZ6BWNyoEz",
    "outputId": "1b05fd8c-cfda-47e7-b76d-786a3a78a9c7",
    "scrolled": true
   },
   "outputs": [],
   "source": [
    "model.compile(loss='categorical_crossentropy', optimizer=Adam(), metrics=['accuracy'])\n",
    "model.fit(train_generator, epochs=10, validation_data=val_generator)\n",
    "\n",
    "score = model.evaluate(X_test, Y_test)\n",
    "print()\n",
    "print('Test accuracy: ', score[1])"
   ]
  },
  {
   "cell_type": "code",
   "execution_count": null,
   "metadata": {
    "id": "8Mljr8KgyNUK",
    "outputId": "3fc61b45-8342-4c68-aa2f-08ba1472891f"
   },
   "outputs": [],
   "source": [
    "aX_train = x_train.astype('float32')\n",
    "X_test = x_test.astype('float32')\n",
    "\n",
    "X_train/=255\n",
    "X_test/=255\n",
    "\n",
    "Y_train = np_utils.to_categorical(y_train, len(cifar10_classes))\n",
    "Y_test = np_utils.to_categorical(y_test, len(cifar10_classes))\n",
    "\n",
    "x_val = X_train[:10000]\n",
    "partial_x_train = X_train[10000:]\n",
    "y_val = Y_train[:10000]\n",
    "partial_y_train = Y_train[10000:]\n",
    "\n",
    "\n",
    "gen = ImageDataGenerator(rotation_range=8, width_shift_range=0.08, shear_range=0.3,\n",
    " height_shift_range=0.08, zoom_range=0.08)\n",
    "val_gen = ImageDataGenerator()\n",
    "train_generator = gen.flow(partial_x_train, partial_y_train, batch_size=64)\n",
    "val_generator = val_gen.flow(x_val, y_val, batch_size=64)\n",
    "\n",
    "\n",
    "X_input = Input((32,32,3))\n",
    "X = ZeroPadding2D(padding=(3, 3), data_format=None)(X_input)\n",
    "X = Conv2D(64, (7, 7), strides = (2, 2), name = 'conv1', kernel_initializer = glorot_uniform(seed=0))(X)\n",
    "X = BatchNormalization(axis = 3, name = 'bn_conv1')(X)\n",
    "X = Activation('relu')(X)\n",
    "X = MaxPooling2D((3, 3), strides=(2, 2))(X)\n",
    "# Stage 2 for ResNet\n",
    "\n",
    "# Save the input value. You'll need this later to add back to the main path.\n",
    "X_shortcut = X\n",
    "\n",
    "X = ZeroPadding2D(padding=(1, 1), data_format=None)(X)\n",
    "X = Conv2D(64, (3, 3), strides = (1, 1), name = 'conv2', kernel_initializer = glorot_uniform(seed=0))(X)\n",
    "X = BatchNormalization(axis = 3, name = 'bn_conv2')(X)\n",
    "X = Activation('relu')(X)\n",
    "\n",
    "X = ZeroPadding2D(padding=(1, 1), data_format=None)(X)\n",
    "X = Conv2D(64, (3, 3), strides = (1, 1), name = 'conv3', kernel_initializer = glorot_uniform(seed=0))(X)\n",
    "X = BatchNormalization(axis = 3, name = 'bn_conv3')(X)\n",
    "\n",
    "#Add X_shortcut before doing final activation\n",
    "X = Add()([X, X_shortcut])\n",
    "X = Activation('relu')(X)\n",
    "\n",
    "X = Flatten()(X)\n",
    "X = Dense(NUM_CLASSES, activation='softmax', name='fc' + str(NUM_CLASSES), kernel_initializer = glorot_uniform(seed=0))(X)\n",
    "\n",
    "\n",
    "# Create model\n",
    "model = Model(inputs = X_input, outputs = X, name='ResNet50')\n",
    "model.summary()\n"
   ]
  },
  {
   "cell_type": "code",
   "execution_count": null,
   "metadata": {
    "id": "ETEcobTjyNUN",
    "outputId": "433adef9-862d-42f7-da35-03f4aafa96f1"
   },
   "outputs": [],
   "source": [
    "model.compile(loss='categorical_crossentropy', optimizer=Adam(), metrics=['accuracy'])\n",
    "model.fit_generator(train_generator, steps_per_epoch=50000//64, epochs=10,\n",
    " validation_data=val_generator, validation_steps=10000//64)\n",
    "\n",
    "score = model.evaluate(X_test, Y_test)\n",
    "print()\n",
    "print('Test accuracy: ', score[1])"
   ]
  },
  {
   "cell_type": "code",
   "execution_count": null,
   "metadata": {
    "id": "fn1c56nayNUO"
   },
   "outputs": [],
   "source": [
    "#Resnet architecture capable of getting 72% accuracy when tested on cifar10 data"
   ]
  }
 ],
 "metadata": {
  "colab": {
   "include_colab_link": true,
   "provenance": []
  },
  "kernelspec": {
   "display_name": "Python 3 (ipykernel)",
   "language": "python",
   "name": "python3"
  },
  "language_info": {
   "codemirror_mode": {
    "name": "ipython",
    "version": 3
   },
   "file_extension": ".py",
   "mimetype": "text/x-python",
   "name": "python",
   "nbconvert_exporter": "python",
   "pygments_lexer": "ipython3",
   "version": "3.11.7"
  }
 },
 "nbformat": 4,
 "nbformat_minor": 4
}
